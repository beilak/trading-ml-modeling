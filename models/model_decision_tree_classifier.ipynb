{
 "cells": [
  {
   "cell_type": "markdown",
   "metadata": {},
   "source": [
    "# Model DecisionTreeClassifier"
   ]
  },
  {
   "cell_type": "code",
   "execution_count": 48,
   "metadata": {},
   "outputs": [],
   "source": [
    "import pandas as pd\n",
    "import numpy as np\n",
    "from sklearn.tree import DecisionTreeClassifier\n",
    "from sklearn.metrics import accuracy_score\n",
    "from sklearn.inspection import permutation_importance"
   ]
  },
  {
   "cell_type": "code",
   "execution_count": 49,
   "metadata": {},
   "outputs": [],
   "source": [
    "# Global settings\n",
    "\n",
    "# SELECT Data Source file name\n",
    "dsn: str = 'SOL-USD_1h_2024-01-01-2024-12-31_110_feature' # Select data source name\n",
    "\n",
    "select_columns: list | None = None\n",
    "\n",
    "target = \"y_next_trend\"   # ['y_next_trend', 'y_next_pct']\n",
    "\n",
    "\n",
    "test_months: int = 2\n"
   ]
  },
  {
   "cell_type": "code",
   "execution_count": null,
   "metadata": {},
   "outputs": [],
   "source": []
  },
  {
   "cell_type": "markdown",
   "metadata": {},
   "source": [
    "### Data"
   ]
  },
  {
   "cell_type": "code",
   "execution_count": 50,
   "metadata": {},
   "outputs": [],
   "source": [
    "data: pd.DataFrame = pd.read_csv(f\"data/{dsn}\")\n",
    "data['datetime'] = pd.to_datetime(data['datetime'])\n",
    "# data = data.set_index(\"datetime\")\n",
    "\n",
    "if select_columns:\n",
    "    data = data[select_columns]"
   ]
  },
  {
   "cell_type": "code",
   "execution_count": 51,
   "metadata": {},
   "outputs": [],
   "source": [
    "# Features \n",
    "features = [i for i in data.columns if (not i.startswith(\"y_\") and not i == \"datetime\")]"
   ]
  },
  {
   "cell_type": "code",
   "execution_count": 52,
   "metadata": {},
   "outputs": [],
   "source": [
    "test_start_date = data['datetime'].max() - pd.DateOffset(months=test_months)\n",
    "\n",
    "train_data = data[data['datetime'] < test_start_date]\n",
    "test_data = data[data['datetime'] >= test_start_date]\n",
    "\n"
   ]
  },
  {
   "cell_type": "code",
   "execution_count": 53,
   "metadata": {},
   "outputs": [],
   "source": [
    "def train_model_classifier(train_data_, feature_cols, target_column) -> DecisionTreeClassifier:\n",
    "    # test_start_date = data['datetime'].max() - pd.DateOffset(months=test_months)\n",
    "    # train_data = data[data['datetime'] < test_start_date]\n",
    "    # test_data = data[data['datetime'] >= test_start_date]\n",
    "\n",
    "    # Разделение на признаки (X) и целевую переменную (y)\n",
    "    X_train = train_data_[feature_cols]\n",
    "    y_train = train_data_[target_column]\n",
    "    # X_test = test_data[feature_cols]\n",
    "    # y_test = test_data[target_column]\n",
    "    \n",
    "    # Модель дерева решений\n",
    "    model = DecisionTreeClassifier(max_depth=5, random_state=42)\n",
    "    model.fit(X_train, y_train)\n",
    "    \n",
    "    # Прогноз вероятностей на тренировочной и тестовой выборках\n",
    "    y_train_pred = model.predict(X_train)\n",
    "    # y_test_pred = model.predict(X_test)\n",
    "    \n",
    "\n",
    "    # Печать таблицы метрик\n",
    "    # print(f'{\"Train Accuracy  \":<15}'\n",
    "    #       f'{\"Test Accuracy   \":<15}')\n",
    "    # print(\"-\" * 50)   \n",
    "    \n",
    "    # print(f'{accuracy_score(y_train, y_train_pred):<15.2f} {accuracy_score(y_test, y_test_pred):<15.2f}')\n",
    "    print(\"DecisionTreeClassifier\")\n",
    "    print(f'Train Accuracy: {accuracy_score(y_train, y_train_pred):.2f}')\n",
    "    # print(f'Test Accuracy: {accuracy_score(y_test, y_test_pred):.2f}')\n",
    "    \n",
    "    return model\n"
   ]
  },
  {
   "cell_type": "code",
   "execution_count": 54,
   "metadata": {},
   "outputs": [],
   "source": [
    "def test_model_classifier(test_data_, feature_cols, target_column, model: DecisionTreeClassifier):\n",
    "    # test_start_date = data['datetime'].max() - pd.DateOffset(months=test_months)\n",
    "    # train_data = data[data['datetime'] < test_start_date]\n",
    "    # test_data = data[data['datetime'] >= test_start_date]\n",
    "\n",
    "    # Разделение на признаки (X) и целевую переменную (y)\n",
    "    # X_train = train_data_[feature_cols]\n",
    "    # y_train = train_data_[target_column]\n",
    "    X_test = test_data_[feature_cols]\n",
    "    y_test = test_data_[target_column]\n",
    "    \n",
    "    # Модель дерева решений\n",
    "    # model = DecisionTreeClassifier(max_depth=5, random_state=42)\n",
    "    # model.fit(X_train, y_train)\n",
    "    \n",
    "    # Прогноз вероятностей на тренировочной и тестовой выборках\n",
    "    # y_train_pred = model.predict(X_train)\n",
    "    y_test_pred = model.predict(X_test)\n",
    "    \n",
    "\n",
    "    # Печать таблицы метрик\n",
    "    # print(f'{\"Train Accuracy  \":<15}'\n",
    "    #       f'{\"Test Accuracy   \":<15}')\n",
    "    # print(\"-\" * 50)   \n",
    "    \n",
    "    # print(f'{accuracy_score(y_train, y_train_pred):<15.2f} {accuracy_score(y_test, y_test_pred):<15.2f}')\n",
    "    print(\"DecisionTreeClassifier\")\n",
    "    # print(f'Train Accuracy: {accuracy_score(y_train, y_train_pred):.2f}')\n",
    "    print(f'Test Accuracy: {accuracy_score(y_test, y_test_pred):.2f}')\n"
   ]
  },
  {
   "cell_type": "code",
   "execution_count": 55,
   "metadata": {},
   "outputs": [
    {
     "name": "stdout",
     "output_type": "stream",
     "text": [
      "DecisionTreeClassifier\n",
      "Train Accuracy: 0.56\n"
     ]
    }
   ],
   "source": [
    "model = train_model_classifier(train_data, features, target)"
   ]
  },
  {
   "cell_type": "code",
   "execution_count": 57,
   "metadata": {},
   "outputs": [
    {
     "name": "stdout",
     "output_type": "stream",
     "text": [
      "DecisionTreeClassifier\n",
      "Test Accuracy: 0.51\n"
     ]
    }
   ],
   "source": [
    "model = test_model_classifier(test_data, features, target, model)"
   ]
  }
 ],
 "metadata": {
  "kernelspec": {
   "display_name": ".venv",
   "language": "python",
   "name": "python3"
  },
  "language_info": {
   "codemirror_mode": {
    "name": "ipython",
    "version": 3
   },
   "file_extension": ".py",
   "mimetype": "text/x-python",
   "name": "python",
   "nbconvert_exporter": "python",
   "pygments_lexer": "ipython3",
   "version": "3.12.6"
  }
 },
 "nbformat": 4,
 "nbformat_minor": 2
}
