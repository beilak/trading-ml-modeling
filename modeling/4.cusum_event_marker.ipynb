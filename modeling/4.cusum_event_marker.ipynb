{
 "cells": [
  {
   "cell_type": "markdown",
   "id": "50eab241",
   "metadata": {},
   "source": [
    "CUSUM"
   ]
  },
  {
   "cell_type": "code",
   "execution_count": 1,
   "id": "92d9d3d4",
   "metadata": {},
   "outputs": [
    {
     "name": "stderr",
     "output_type": "stream",
     "text": [
      "/Users/beilakaliev/Library/Caches/pypoetry/virtualenvs/ml-modeling-TB8BmMSm-py3.12/lib/python3.12/site-packages/tqdm/auto.py:21: TqdmWarning: IProgress not found. Please update jupyter and ipywidgets. See https://ipywidgets.readthedocs.io/en/stable/user_install.html\n",
      "  from .autonotebook import tqdm as notebook_tqdm\n"
     ]
    }
   ],
   "source": [
    "import os\n",
    "import pandas as pd\n",
    "import numpy as np\n",
    "from tqdm.auto import tqdm"
   ]
  },
  {
   "cell_type": "code",
   "execution_count": 2,
   "id": "838104c0",
   "metadata": {},
   "outputs": [],
   "source": [
    "# ==============================================================================\n",
    "# РЕАЛИЗАЦИЯ CUSUM ФИЛЬТРА\n",
    "# ==============================================================================\n",
    "\n",
    "def get_cusum_events(close_prices, threshold):\n",
    "    \"\"\"\n",
    "    Применяет двусторонний CUSUM-фильтр для обнаружения значимых движений.\n",
    "\n",
    "    :param close_prices: pd.Series с ценами закрытия.\n",
    "    :param threshold: Порог (h), при превышении которого генерируется событие.\n",
    "    :return: pd.Series с метками событий (1 для up, -1 для down, 0 для отсутствия события).\n",
    "    \"\"\"\n",
    "    # Рассчитываем дневные доходности\n",
    "    returns = close_prices.pct_change().dropna()\n",
    "    \n",
    "    s_up = 0\n",
    "    s_down = 0\n",
    "    events = pd.Series(index=returns.index, data=0)\n",
    "\n",
    "    for timestamp, ret in returns.items():\n",
    "        # Накопление для верхнего фильтра\n",
    "        s_up = max(0, s_up + ret)\n",
    "        \n",
    "        # Накопление для нижнего фильтра\n",
    "        s_down = min(0, s_down + ret)\n",
    "        \n",
    "        # Проверка порогов\n",
    "        if s_up > threshold:\n",
    "            events.loc[timestamp] = 1\n",
    "            # Сброс обоих счетчиков после события\n",
    "            s_up = 0\n",
    "            s_down = 0\n",
    "        elif s_down < -threshold:\n",
    "            events.loc[timestamp] = -1\n",
    "            # Сброс обоих счетчиков после события\n",
    "            s_up = 0\n",
    "            s_down = 0\n",
    "            \n",
    "    return events\n",
    "\n"
   ]
  },
  {
   "cell_type": "code",
   "execution_count": 3,
   "id": "b16f679c",
   "metadata": {},
   "outputs": [
    {
     "name": "stdout",
     "output_type": "stream",
     "text": [
      "Загрузка данных из: ../data/moex_with_features.csv\n",
      "Данные успешно загружены.\n",
      "Применение CUSUM фильтра с порогом 0.90%...\n"
     ]
    },
    {
     "name": "stderr",
     "output_type": "stream",
     "text": [
      "Обработка тикеров: 100%|██████████| 77/77 [00:00<00:00, 237.13it/s]\n",
      "/var/folders/lh/9k36l4vn35v4qnj9z669pmtc0000gn/T/ipykernel_88440/932637793.py:48: FutureWarning: A value is trying to be set on a copy of a DataFrame or Series through chained assignment using an inplace method.\n",
      "The behavior will change in pandas 3.0. This inplace method will never work because the intermediate object on which we are setting values always behaves as a copy.\n",
      "\n",
      "For example, when doing 'df[col].method(value, inplace=True)', try using 'df.method({col: value}, inplace=True)' or df[col] = df[col].method(value) instead, to perform the operation inplace on the original object.\n",
      "\n",
      "\n",
      "  df['cusum_event'].fillna(0, inplace=True)\n"
     ]
    },
    {
     "name": "stdout",
     "output_type": "stream",
     "text": [
      "\n",
      "--- Результаты CUSUM фильтрации ---\n",
      "Распределение меток:\n",
      "cusum_event\n",
      " 1    13599\n",
      "-1    13166\n",
      " 0     8010\n",
      "Name: count, dtype: int64\n",
      "\n",
      "Всего найдено 26765 событий на 34775 строк данных.\n",
      "События составляют 76.97% от всего набора данных.\n",
      "\n",
      "Сохранение данных с CUSUM метками в файл: ../data/moex_with_cusum_events.csv\n",
      "Скрипт выполнен успешно!\n"
     ]
    }
   ],
   "source": [
    "# ==============================================================================\n",
    "# ОСНОВНОЙ СКРИПТ\n",
    "# ==============================================================================\n",
    "\n",
    "data_folder = \"../data/\"\n",
    "features_data_filename = 'moex_with_features.csv'\n",
    "output_filename = 'moex_with_cusum_events.csv'\n",
    "\n",
    "# --- КЛЮЧЕВОЙ ПАРАМЕТР: ПОРОГ ДЛЯ CUSUM ---\n",
    "# Этот порог (h) нужно подбирать. Он представляет собой суммарную доходность.\n",
    "# Например, 0.005 означает, что мы ищем накопленное движение в 0.5%.\n",
    "\n",
    "CUSUM_THRESHOLD = 0.009\n",
    "\n",
    "# --- ШАГ 1: Загрузка данных с признаками ---\n",
    "print(f\"Загрузка данных из: {os.path.join(data_folder, features_data_filename)}\")\n",
    "try:\n",
    "    df = pd.read_csv(os.path.join(data_folder, features_data_filename))\n",
    "    df['Date'] = pd.to_datetime(df['Date'])\n",
    "    print(\"Данные успешно загружены.\")\n",
    "except FileNotFoundError:\n",
    "    print(f\"ОШИБКА: Файл не найден. Убедитесь, что скрипт feature_engineering.py был запущен.\")\n",
    "    exit()\n",
    "\n",
    "# --- ШАГ 2: Применение CUSUM фильтра для каждого тикера ---\n",
    "print(f\"Применение CUSUM фильтра с порогом {CUSUM_THRESHOLD:.2%}...\")\n",
    "\n",
    "all_events = []\n",
    "# Группируем по тикеру и применяем функцию\n",
    "for ticker, group in tqdm(df.groupby('Ticker'), desc=\"Обработка тикеров\"):\n",
    "    # Важно отсортировать данные по дате внутри группы\n",
    "    group = group.sort_values('Date')\n",
    "    events = get_cusum_events(group['Close'], threshold=CUSUM_THRESHOLD)\n",
    "    # Добавляем имя колонки для последующего объединения\n",
    "    all_events.append(events.rename('cusum_event'))\n",
    "\n",
    "# Объединяем результаты всех тикеров в одну серию\n",
    "if not all_events:\n",
    "    print(\"Не удалось сгенерировать CUSUM события.\")\n",
    "    exit()\n",
    "    \n",
    "cusum_series = pd.concat(all_events)\n",
    "\n",
    "# Присоединяем новую колонку к исходному DataFrame\n",
    "df = df.join(cusum_series)\n",
    "\n",
    "# Заполняем пропуски (первые строки, где доходность нельзя посчитать) нулями\n",
    "df['cusum_event'].fillna(0, inplace=True)\n",
    "# Приводим к целочисленному типу для аккуратности\n",
    "df['cusum_event'] = df['cusum_event'].astype(int)\n",
    "\n",
    "# --- ШАГ 3: Анализ и сохранение результата ---\n",
    "\n",
    "# Посчитаем, сколько событий мы нашли\n",
    "event_counts = df['cusum_event'].value_counts()\n",
    "\n",
    "print(\"\\n--- Результаты CUSUM фильтрации ---\")\n",
    "print(\"Распределение меток:\")\n",
    "print(event_counts)\n",
    "\n",
    "total_rows = len(df)\n",
    "total_events = event_counts.get(1, 0) + event_counts.get(-1, 0)\n",
    "\n",
    "if total_events > 0:\n",
    "    print(f\"\\nВсего найдено {total_events} событий на {total_rows} строк данных.\")\n",
    "    print(f\"События составляют {total_events / total_rows:.2%} от всего набора данных.\")\n",
    "else:\n",
    "    print(\"\\nНи одного CUSUM события не найдено. Попробуйте уменьшить CUSUM_THRESHOLD.\")\n",
    "\n",
    "# Сохраняем DataFrame с новой колонкой\n",
    "output_path = os.path.join(data_folder, output_filename)\n",
    "print(f\"\\nСохранение данных с CUSUM метками в файл: {output_path}\")\n",
    "df.to_csv(output_path, index=False)\n",
    "\n",
    "print(\"Скрипт выполнен успешно!\")"
   ]
  }
 ],
 "metadata": {
  "kernelspec": {
   "display_name": "ml-modeling-TB8BmMSm-py3.12",
   "language": "python",
   "name": "python3"
  },
  "language_info": {
   "codemirror_mode": {
    "name": "ipython",
    "version": 3
   },
   "file_extension": ".py",
   "mimetype": "text/x-python",
   "name": "python",
   "nbconvert_exporter": "python",
   "pygments_lexer": "ipython3",
   "version": "3.12.11"
  }
 },
 "nbformat": 4,
 "nbformat_minor": 5
}
