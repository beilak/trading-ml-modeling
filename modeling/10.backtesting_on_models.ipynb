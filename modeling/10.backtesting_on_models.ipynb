{
 "cells": [
  {
   "cell_type": "code",
   "execution_count": null,
   "id": "a8cc5d47",
   "metadata": {},
   "outputs": [],
   "source": [
    "# USE https://vectorbt.dev/"
   ]
  }
 ],
 "metadata": {
  "language_info": {
   "name": "python"
  }
 },
 "nbformat": 4,
 "nbformat_minor": 5
}
